{
 "cells": [
  {
   "cell_type": "code",
   "execution_count": 1,
   "metadata": {},
   "outputs": [
    {
     "name": "stdout",
     "output_type": "stream",
     "text": [
      "4149.514182969958\n",
      "1319.0885966846101\n",
      " The test set error is higher than the training set error (when run multiple times,\n",
      " the error values change, but the test error is usually significantly higher.)\n",
      "[4149.51418297]\n",
      "[1319.08859668]\n",
      "The values are identical.\n"
     ]
    }
   ],
   "source": [
    "import pandas as pd\n",
    "import sklearn as sk\n",
    "from sklearn import model_selection\n",
    "from sklearn import linear_model\n",
    "from sklearn import metrics\n",
    "\n",
    "file = open('anes_2016.csv')\n",
    "\n",
    "# Question 1 a.\n",
    "anes = pd.read_csv(file, index_col = 0, na_filter= True, usecols = ['caseid','ftobama', 'faminc', 'pid3', 'birthyr', 'gender','fttrump'])\n",
    "anes.dropna(inplace= True)\n",
    "\n",
    "anes_trump = pd.DataFrame(anes, columns= ['fttrump'])\n",
    "anes.drop('fttrump', inplace= True, axis = 1)\n",
    "\n",
    "# Question 1 b.\n",
    "X_train, X_test, y_train, y_test = sk.model_selection.train_test_split(anes, anes_trump, test_size=0.25)\n",
    "\n",
    "# Question 2.\n",
    "ln = sk.linear_model.LinearRegression().fit(X_train, y_train)\n",
    "\n",
    "# Question 3.\n",
    "print(sk.metrics.mean_squared_error(y_train, ln.predict(X_train)))\n",
    "\n",
    "# Question 4.\n",
    "predictions = ln.predict(X_test)\n",
    "\n",
    "# Question 5.\n",
    "print(sk.metrics.mean_squared_error(y_test, ln.predict(X_test)))\n",
    "\n",
    "# Question 6.\n",
    "print(\" The test set error is higher than the training set error (when run multiple times,\\n \"\n",
    "      \"the error values change, but the test error is usually significantly higher.)\")\n",
    "\n",
    "# Question 7.\n",
    "def mse(true_values, predicted_values):\n",
    "    sum = 0\n",
    "    n = 0\n",
    "    for i,j in zip(true_values, predicted_values):\n",
    "        sum += (i-j)**2\n",
    "        n += 1\n",
    "    return sum/n\n",
    "\n",
    "print(mse(y_train.values.tolist(), ln.predict(X_train)))\n",
    "print(mse(y_test.values.tolist(), ln.predict(X_test)))\n",
    "\n",
    "print(\"The values are identical.\")"
   ]
  },
  {
   "cell_type": "code",
   "execution_count": 49,
   "metadata": {
    "pycharm": {
     "name": "#%%\n"
    }
   },
   "outputs": [],
   "source": [
    "}"
   ]
  },
  {
   "cell_type": "code",
   "execution_count": null,
   "metadata": {
    "pycharm": {
     "name": "#%%\n"
    }
   },
   "outputs": [],
   "source": []
  }
 ],
 "metadata": {
  "kernelspec": {
   "display_name": "Python 3",
   "language": "python",
   "name": "python3"
  },
  "language_info": {
   "codemirror_mode": {
    "name": "ipython",
    "version": 3
   },
   "file_extension": ".py",
   "mimetype": "text/x-python",
   "name": "python",
   "nbconvert_exporter": "python",
   "pygments_lexer": "ipython3",
   "version": "3.7.6"
  }
 },
 "nbformat": 4,
 "nbformat_minor": 1
}